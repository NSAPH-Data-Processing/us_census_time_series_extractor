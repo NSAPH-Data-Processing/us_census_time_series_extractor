{
 "cells": [
  {
   "cell_type": "code",
   "execution_count": 1,
   "metadata": {},
   "outputs": [],
   "source": [
    "import censusdis.data as ced\n",
    "import pandas as pd\n",
    "import string"
   ]
  },
  {
   "cell_type": "code",
   "execution_count": 3,
   "metadata": {},
   "outputs": [],
   "source": [
    "pd.set_option('display.max_colwidth', None)"
   ]
  },
  {
   "cell_type": "markdown",
   "metadata": {},
   "source": [
    "## Census categories\n",
    "\n",
    "Here are some common census categories or classifications:\n",
    "\n",
    "Demographic Characteristics:\n",
    "\n",
    "* Age\n",
    "* Sex\n",
    "* Race\n",
    "* Ethnicity (Hispanic or Latino origin)\n",
    "* Marital status\n",
    "* Household relationship\n",
    "\n",
    "Economic Characteristics:\n",
    "\n",
    "* Employment status\n",
    "* Industry and occupation\n",
    "* Income and earnings\n",
    "* Poverty status\n",
    "* Employment status\n",
    "\n",
    "Social Characteristics:\n",
    "\n",
    "* Educational attainment\n",
    "* School enrollment\n",
    "* Language spoken at home\n",
    "* Ancestry\n",
    "* Disability status\n",
    "* Migration/Residence one year ago\n",
    "\n",
    "Housing Characteristics:\n",
    "\n",
    "* Housing occupancy (owned or rented)\n",
    "* Housing value\n",
    "* Rent\n",
    "* Number of rooms and bedrooms\n",
    "* Year structure built\n",
    "* Plumbing and kitchen facilities\n",
    "\n",
    "Geographical Characteristics:\n",
    "\n",
    "* Urban and rural classification\n",
    "* Geographic regions and divisions\n",
    "* States, counties, and cities\n",
    "* Census tracts and blocks\n",
    "\n",
    "Family and Household Characteristics:\n",
    "\n",
    "* Family composition\n",
    "* Household size and type\n",
    "* Presence of children\n",
    "* Presence of elderly"
   ]
  },
  {
   "cell_type": "code",
   "execution_count": 4,
   "metadata": {},
   "outputs": [],
   "source": [
    "def validate_xyear(var_variable, var_group, var_dataset, var_years):\n",
    "    var_df = list() \n",
    "    for year in var_years:\n",
    "        # identify whether group is a dictionary or string\n",
    "        if isinstance(var_group, dict):\n",
    "            group = var_group[year]\n",
    "        elif isinstance(var_group, str):\n",
    "            group = var_group\n",
    "        # identify whether dataset is a dictionary or string\n",
    "        if isinstance(var_dataset, dict):\n",
    "            dataset = var_dataset[year]\n",
    "        elif isinstance(var_dataset, str):\n",
    "            dataset = var_dataset\n",
    "        # identify whether variable is a dictionary or string\n",
    "        if isinstance(var_variable, dict):\n",
    "            variable = var_variable[year]\n",
    "        elif isinstance(var_variable, str):\n",
    "            variable = var_variable\n",
    "        # make request\n",
    "        var = ced.variables.all_variables(dataset, year, group)\n",
    "        # make sure variable is in dataset\n",
    "        if var[var.VARIABLE == variable].shape[0] == 0:\n",
    "            print(f'{variable} not found in {dataset} for {year}')\n",
    "            return []\n",
    "        var = var[var.VARIABLE == variable]\n",
    "        var_df.append(var)\n",
    "    var_df = pd.concat(var_df)\n",
    "    label = var_df.LABEL\n",
    "    for token in string.punctuation:\n",
    "        label = label.str.replace(token, ' ')\n",
    "    # Remove multiple spaces\n",
    "    label = label.str.replace(' +', ' ', regex=True)\n",
    "    # Remove leading and trailing spaces\n",
    "    label = label.str.strip()\n",
    "    # Convert to small caps\n",
    "    label = label.str.lower()\n",
    "    return label.unique().tolist()"
   ]
  },
  {
   "cell_type": "markdown",
   "metadata": {},
   "source": [
    "## ACS5 Datasets (year 2009)"
   ]
  },
  {
   "cell_type": "code",
   "execution_count": null,
   "metadata": {},
   "outputs": [],
   "source": [
    "df_datasets = ced.variables.all_data_sets(year=2009)\n",
    "df_datasets[df_datasets['DATASET'].str.contains('acs5')][['SYMBOL', 'DATASET', 'TITLE']]"
   ]
  },
  {
   "cell_type": "markdown",
   "metadata": {},
   "source": [
    "## ACS1 Datasets (year 2009)"
   ]
  },
  {
   "cell_type": "code",
   "execution_count": null,
   "metadata": {},
   "outputs": [],
   "source": [
    "df_datasets[df_datasets['DATASET'].str.contains('acs1')][['SYMBOL', 'DATASET', 'TITLE']]"
   ]
  },
  {
   "cell_type": "markdown",
   "metadata": {},
   "source": [
    "## Decennial Datasets (year 2000)"
   ]
  },
  {
   "cell_type": "code",
   "execution_count": null,
   "metadata": {},
   "outputs": [],
   "source": [
    "df_datasets = ced.variables.all_data_sets(year=2000)\n",
    "df_datasets[df_datasets['DATASET'].str.contains('dec')][['SYMBOL', 'DATASET', 'TITLE']]"
   ]
  },
  {
   "cell_type": "markdown",
   "metadata": {},
   "source": [
    "## Decennial Datasets (year 2010)"
   ]
  },
  {
   "cell_type": "code",
   "execution_count": null,
   "metadata": {},
   "outputs": [],
   "source": [
    "df_datasets = ced.variables.all_data_sets(year=2010)\n",
    "df_datasets[df_datasets['DATASET'].str.contains('dec')][['SYMBOL', 'DATASET', 'TITLE']]"
   ]
  },
  {
   "cell_type": "markdown",
   "metadata": {},
   "source": [
    "## Decennial Datasets (year 2020)"
   ]
  },
  {
   "cell_type": "code",
   "execution_count": null,
   "metadata": {},
   "outputs": [],
   "source": [
    "df_datasets = ced.variables.all_data_sets(year=2020)\n",
    "df_datasets[df_datasets['DATASET'].str.contains('dec')][['SYMBOL', 'DATASET', 'TITLE']]"
   ]
  },
  {
   "cell_type": "markdown",
   "metadata": {},
   "source": [
    "## ACS5 Groups (year 2009)"
   ]
  },
  {
   "cell_type": "code",
   "execution_count": null,
   "metadata": {},
   "outputs": [],
   "source": [
    "acs_acs5_groups_2009 = ced.variables.all_groups('acs/acs5', year=2009)[['GROUP', 'DESCRIPTION']]\n",
    "acs_acs5_groups_2009.to_csv('acs_acs5_groups_2009.csv', index=False)\n",
    "acs_acs5_groups_2009"
   ]
  },
  {
   "cell_type": "code",
   "execution_count": null,
   "metadata": {},
   "outputs": [],
   "source": []
  },
  {
   "cell_type": "code",
   "execution_count": null,
   "metadata": {},
   "outputs": [],
   "source": [
    "ced.variables.all_groups('acs/acs5/pums', year=2009)[['GROUP', 'DESCRIPTION']]"
   ]
  },
  {
   "cell_type": "code",
   "execution_count": null,
   "metadata": {},
   "outputs": [],
   "source": [
    "ced.variables.all_groups('acs5', year=2009)[['GROUP', 'DESCRIPTION']]"
   ]
  },
  {
   "cell_type": "markdown",
   "metadata": {},
   "source": [
    "## ACS1 Groups (year 2007)"
   ]
  },
  {
   "cell_type": "code",
   "execution_count": null,
   "metadata": {},
   "outputs": [],
   "source": [
    "acs_acs1_groups_2007 = ced.variables.all_groups('acs/acs1', year=2007)[['GROUP', 'DESCRIPTION']]\n",
    "acs_acs1_groups_2007.to_csv('acs_acs1_groups_2007.csv', index=False)\n",
    "acs_acs1_groups_2007"
   ]
  },
  {
   "cell_type": "code",
   "execution_count": null,
   "metadata": {},
   "outputs": [],
   "source": [
    "ced.variables.all_groups('acs/acs1/profile', year=2007)[['GROUP', 'DESCRIPTION']]"
   ]
  },
  {
   "cell_type": "code",
   "execution_count": null,
   "metadata": {},
   "outputs": [],
   "source": [
    "ced.variables.all_groups('acs/acs1/pums', year=2007)[['GROUP', 'DESCRIPTION']]"
   ]
  },
  {
   "cell_type": "code",
   "execution_count": null,
   "metadata": {},
   "outputs": [],
   "source": [
    "# acs/acs1/spp is not available for 2007\n",
    "ced.variables.all_groups('acs/acs1/spp', year=2008)[['GROUP', 'DESCRIPTION']]"
   ]
  },
  {
   "cell_type": "markdown",
   "metadata": {},
   "source": [
    "## Dec groups"
   ]
  },
  {
   "cell_type": "code",
   "execution_count": null,
   "metadata": {},
   "outputs": [],
   "source": [
    "datasets = {\n",
    "    2000: ['sf1', 'sf2', 'sf3', 'sf4'],\n",
    "    2010: ['sf1', 'sf2'],\n",
    "    2020: ['dhc']\n",
    "}\n",
    "for year in [2000, 2010, 2020]:\n",
    "    for dataset in datasets[year]:\n",
    "        print(f'{dataset} {year}')\n",
    "        df = ced.variables.all_groups(f'dec/{dataset}', year=year)[['GROUP', 'DESCRIPTION']]\n",
    "        filename = f'dec_{dataset}_groups_{year}.csv'\n",
    "        df.to_csv(filename, index=False)"
   ]
  },
  {
   "cell_type": "code",
   "execution_count": 19,
   "metadata": {},
   "outputs": [],
   "source": [
    "dec_sf1_groups_2000 = ced.variables.all_groups('dec/sf1', year=2000)[['GROUP', 'DESCRIPTION']]"
   ]
  },
  {
   "cell_type": "markdown",
   "metadata": {},
   "source": [
    "# Census variables"
   ]
  },
  {
   "cell_type": "markdown",
   "metadata": {},
   "source": [
    "### `population`"
   ]
  },
  {
   "cell_type": "code",
   "execution_count": null,
   "metadata": {},
   "outputs": [],
   "source": [
    "print(acs_acs5_groups_2009[acs_acs5_groups_2009['GROUP'] == 'B01003'])\n",
    "ced.variables.all_variables('acs/acs5', 2009, 'B01003')"
   ]
  },
  {
   "cell_type": "code",
   "execution_count": null,
   "metadata": {},
   "outputs": [],
   "source": [
    "print(acs_acs1_groups_2007[acs_acs1_groups_2007['GROUP'] == 'B01003'])\n",
    "ced.variables.all_variables('acs/acs1', 2007, 'B01003')"
   ]
  },
  {
   "cell_type": "code",
   "execution_count": null,
   "metadata": {},
   "outputs": [],
   "source": [
    "var_group = {}\n",
    "var_group[2000] = 'P001'\n",
    "var_group[2010] = 'P1'\n",
    "var_group[2020] = 'P1'\n",
    "\n",
    "var_dataset = {}\n",
    "var_dataset[2000] = 'dec/sf1'\n",
    "var_dataset[2010] = 'dec/sf1'\n",
    "var_dataset[2020] = 'dec/dhc'\n",
    "\n",
    "var_df = []\n",
    "for year in [2000, 2010, 2020]:\n",
    "    dataset = var_dataset[year]\n",
    "    group = var_group[year]\n",
    "    print(f'{dataset} {year} {group}')\n",
    "    var = ced.variables.all_variables(dataset, year, group)\n",
    "    var_df.append(var)\n",
    "var_df = pd.concat(var_df)\n",
    "var_df.to_csv('dec_population.csv', index=False)"
   ]
  },
  {
   "cell_type": "markdown",
   "metadata": {},
   "source": [
    "## `median_age`"
   ]
  },
  {
   "cell_type": "code",
   "execution_count": null,
   "metadata": {},
   "outputs": [],
   "source": [
    "print(acs_acs5_groups_2009[acs_acs5_groups_2009['GROUP'] == 'B01002'])\n",
    "ced.variables.all_variables('acs/acs5', 2010, 'B01002')"
   ]
  },
  {
   "cell_type": "code",
   "execution_count": null,
   "metadata": {},
   "outputs": [],
   "source": [
    "print(acs_acs1_groups_2007[acs_acs1_groups_2007['GROUP'] == 'B01002'])\n",
    "ced.variables.all_variables('acs/acs1', 2005, 'B01002')"
   ]
  },
  {
   "cell_type": "code",
   "execution_count": null,
   "metadata": {},
   "outputs": [],
   "source": [
    "var_group = {}\n",
    "var_group[2000] = 'P013'\n",
    "var_group[2010] = 'P13'\n",
    "var_group[2020] = 'P13'\n",
    "\n",
    "var_dataset = {}\n",
    "var_dataset[2000] = 'dec/sf1'\n",
    "var_dataset[2010] = 'dec/sf1'\n",
    "var_dataset[2020] = 'dec/dhc'\n",
    "\n",
    "var_df = []\n",
    "for year in [2000, 2010, 2020]:\n",
    "    dataset = var_dataset[year]\n",
    "    group = var_group[year]\n",
    "    print(f'{dataset} {year} {group}')\n",
    "    var = ced.variables.all_variables(dataset, year, group)\n",
    "    var_df.append(var)\n",
    "var_df = pd.concat(var_df)\n",
    "var_df.to_csv('dec_median_age.csv', index=False)"
   ]
  },
  {
   "cell_type": "markdown",
   "metadata": {},
   "source": [
    "## `pct_under_20_years`, `pct_20_35_years`, `pct_35_50_years`, `pct_50_65_years`, `pct_more_65_years`"
   ]
  },
  {
   "cell_type": "code",
   "execution_count": null,
   "metadata": {},
   "outputs": [],
   "source": [
    "print(acs_acs5_groups_2009[acs_acs5_groups_2009['GROUP'] == 'B01001'])\n",
    "ced.variables.all_variables('acs/acs5', 2009, 'B01001')[['VARIABLE', 'LABEL']]"
   ]
  },
  {
   "cell_type": "code",
   "execution_count": null,
   "metadata": {},
   "outputs": [],
   "source": [
    "valid_codes = [len(validate_xyear(f'B01001_{i:03}E', 'B01001', 'acs/acs5', range(2009, 2022 + 1))) == 1 for i in range(1, 50)]\n",
    "print(valid_codes)\n",
    "print(\"total codes:\", len(valid_codes))\n",
    "print(\"total valid codes:\", sum(valid_codes))"
   ]
  },
  {
   "cell_type": "code",
   "execution_count": null,
   "metadata": {},
   "outputs": [],
   "source": [
    "print(acs_acs1_groups_2007[acs_acs1_groups_2007['GROUP'] == 'B01001'])\n",
    "df = ced.variables.all_variables('acs/acs1', 2007, 'B01001')\n",
    "df = df[df.VARIABLE.str.contains('B01001_')]\n",
    "df[['VARIABLE', 'LABEL']]"
   ]
  },
  {
   "cell_type": "code",
   "execution_count": null,
   "metadata": {},
   "outputs": [],
   "source": [
    "acs1_years = list(i for i in range(2007, 2022 + 1) if i != 2020)\n",
    "valid_codes = [len(validate_xyear(f'B01001_{i:03}E', 'B01001', 'acs/acs1', acs1_years)) == 1 for i in range(1, 50)]\n",
    "print(valid_codes)\n",
    "print(\"total codes:\", len(valid_codes))\n",
    "print(\"total valid codes:\", sum(valid_codes))"
   ]
  },
  {
   "cell_type": "code",
   "execution_count": null,
   "metadata": {},
   "outputs": [],
   "source": [
    "var_group = {}\n",
    "var_group[2000] = 'P012'\n",
    "var_group[2010] = 'P12'\n",
    "var_group[2020] = 'P12'\n",
    "\n",
    "var_dataset = {}\n",
    "var_dataset[2000] = 'dec/sf1'\n",
    "var_dataset[2010] = 'dec/sf1'\n",
    "var_dataset[2020] = 'dec/dhc'\n",
    "\n",
    "var_df = []\n",
    "for year in [2000, 2010, 2020]:\n",
    "    dataset = var_dataset[year]\n",
    "    group = var_group[year]\n",
    "    print(f'{dataset} {year} {group}')\n",
    "    var = ced.variables.all_variables(dataset, year, group)\n",
    "    var_df.append(var)\n",
    "var_df = pd.concat(var_df)\n",
    "var_df.to_csv('dec_sex_age.csv', index=False)\n"
   ]
  },
  {
   "cell_type": "code",
   "execution_count": null,
   "metadata": {},
   "outputs": [],
   "source": [
    "var_variable_prefix = {}\n",
    "var_variable_prefix[2000] = 'P012'\n",
    "var_variable_prefix[2010] = 'P012'\n",
    "var_variable_prefix[2020] = 'P12_'\n",
    "\n",
    "var_variable_suffix = {}\n",
    "var_variable_suffix[2000] = ''\n",
    "var_variable_suffix[2010] = ''\n",
    "var_variable_suffix[2020] = 'N'\n",
    "\n",
    "var_variable_list = []\n",
    "for i in range(1, 49+1):\n",
    "    var_variable = {}\n",
    "    for year in [2000, 2010, 2020]:\n",
    "        var_variable[year] = f'{var_variable_prefix[year]}{i:03d}{var_variable_suffix[year]}'\n",
    "    var_variable_list.append(var_variable)\n",
    "var_variable_list[-5:]"
   ]
  },
  {
   "cell_type": "code",
   "execution_count": null,
   "metadata": {},
   "outputs": [],
   "source": [
    "valid_codes = []\n",
    "for i in range(49):\n",
    "    val = validate_xyear(var_variable_list[i], var_group, var_dataset, [2000,2010,2020])\n",
    "    valid_codes.append(len(val) == 1)\n",
    "print(\"total codes:\", len(valid_codes))\n",
    "print(\"total valid codes:\", sum(valid_codes))"
   ]
  },
  {
   "cell_type": "code",
   "execution_count": 33,
   "metadata": {},
   "outputs": [],
   "source": [
    "# i = 1\n",
    "# var_df = list()\n",
    "# for year in [2000, 2010, 2020]:\n",
    "#     dataset = var_dataset[year]\n",
    "#     group = var_group[year]\n",
    "#     variable_prefix = var_variable_prefix[year]\n",
    "#     variable_suffix = var_variable_suffix[year]\n",
    "#     variable = f'{variable_prefix}{i:03d}{variable_suffix}'\n",
    "#     var = ced.variables.all_variables(dataset, year, group)\n",
    "#     var = var[var.VARIABLE == variable]\n",
    "#     if var.shape[0] == 0:\n",
    "#         print(f'{variable} not found in {dataset} for {year}')\n",
    "#     var_df.append(var)\n",
    "# var_df = pd.concat(var_df)\n",
    "# var_df"
   ]
  },
  {
   "cell_type": "markdown",
   "metadata": {},
   "source": [
    "### `pct_white`, `pct_black`, `pct_asian`"
   ]
  },
  {
   "cell_type": "code",
   "execution_count": null,
   "metadata": {},
   "outputs": [],
   "source": [
    "print(acs_acs5_groups_2009[acs_acs5_groups_2009['GROUP'] == 'B02001'])\n",
    "ced.variables.all_variables('acs/acs5', 2009, 'B02001')[['VARIABLE', 'LABEL']]"
   ]
  },
  {
   "cell_type": "code",
   "execution_count": null,
   "metadata": {},
   "outputs": [],
   "source": [
    "valid_codes = [len(validate_xyear(f'B02001_{i:03}E', 'B02001', 'acs/acs5', range(2009, 2022+1))) == 1 for i in range(1, 11)]\n",
    "print(valid_codes)\n",
    "print(\"total codes:\", len(valid_codes))\n",
    "print(\"total valid codes:\", sum(valid_codes))"
   ]
  },
  {
   "cell_type": "code",
   "execution_count": null,
   "metadata": {},
   "outputs": [],
   "source": [
    "print(acs_acs1_groups_2007[acs_acs1_groups_2007['GROUP'] == 'B02001'])\n",
    "ced.variables.all_variables('acs/acs1', 2007, 'B02001')[['VARIABLE', 'LABEL']]"
   ]
  },
  {
   "cell_type": "code",
   "execution_count": null,
   "metadata": {},
   "outputs": [],
   "source": [
    "valid_codes = [len(validate_xyear(f'B02001_{i:03}E', 'B02001', 'acs/acs1', acs1_years)) == 1 for i in range(1, 11)]\n",
    "print(valid_codes)\n",
    "print(\"total codes:\", len(valid_codes))\n",
    "print(\"total valid codes:\", sum(valid_codes))"
   ]
  },
  {
   "cell_type": "code",
   "execution_count": null,
   "metadata": {},
   "outputs": [],
   "source": [
    "ced.variables.all_variables('dec/sf1', 2010, 'P6')"
   ]
  },
  {
   "cell_type": "code",
   "execution_count": null,
   "metadata": {},
   "outputs": [],
   "source": [
    "var_group = {}\n",
    "var_group[2000] = 'P007'\n",
    "var_group[2010] = 'P8'\n",
    "var_group[2020] = 'P8'\n",
    "\n",
    "var_dataset = {}\n",
    "var_dataset[2000] = 'dec/sf1'\n",
    "var_dataset[2010] = 'dec/sf1'\n",
    "var_dataset[2020] = 'dec/dhc'\n",
    "\n",
    "var_df = []\n",
    "for year in [2000, 2010, 2020]:\n",
    "    dataset = var_dataset[year]\n",
    "    group = var_group[year]\n",
    "    print(f'{dataset} {year} {group}')\n",
    "    var = ced.variables.all_variables(dataset, year, group)\n",
    "    var_df.append(var)\n",
    "var_df = pd.concat(var_df)\n",
    "var_df.to_csv('dec_race.csv', index=False)"
   ]
  },
  {
   "cell_type": "code",
   "execution_count": null,
   "metadata": {},
   "outputs": [],
   "source": [
    "var_variable_prefix = {}\n",
    "var_variable_prefix[2000] = 'P007'\n",
    "var_variable_prefix[2010] = 'P008'\n",
    "var_variable_prefix[2020] = 'P8_'\n",
    "\n",
    "var_variable_suffix = {}\n",
    "var_variable_suffix[2000] = ''\n",
    "var_variable_suffix[2010] = ''\n",
    "var_variable_suffix[2020] = 'N'\n",
    "\n",
    "var_variable_list = []\n",
    "for i in range(1, 8+1):\n",
    "    var_variable = {}\n",
    "    for year in [2000, 2010, 2020]:\n",
    "        var_variable[year] = f'{var_variable_prefix[year]}{i:03d}{var_variable_suffix[year]}'\n",
    "    var_variable_list.append(var_variable)\n",
    "var_variable_list[-5:]"
   ]
  },
  {
   "cell_type": "code",
   "execution_count": null,
   "metadata": {},
   "outputs": [],
   "source": [
    "var_df = list()\n",
    "for i in range(1, 9):\n",
    "    for year in [2000, 2010, 2020]:\n",
    "        dataset = var_dataset[year]\n",
    "        group = var_group[year]\n",
    "        variable_prefix = var_variable_prefix[year]\n",
    "        variable_suffix = var_variable_suffix[year]\n",
    "        variable = f'{variable_prefix}{i:03d}{variable_suffix}'\n",
    "        var = ced.variables.all_variables(dataset, year, group)\n",
    "        var = var[var.VARIABLE == variable]\n",
    "        if var.shape[0] == 0:\n",
    "            print(f'{variable} not found in {dataset} for {year}')\n",
    "        label = var.LABEL\n",
    "        for token in string.punctuation:\n",
    "            label = label.str.replace(token, ' ')\n",
    "        # Remove multiple spaces\n",
    "        label = label.str.replace(' +', ' ', regex=True)\n",
    "        # Remove leading and trailing spaces\n",
    "        label = label.str.strip()\n",
    "        # Convert to small caps\n",
    "        label = label.str.lower()\n",
    "        var['LABEL'] = label\n",
    "        var_df.append(var[['YEAR', 'DATASET', 'GROUP', 'VARIABLE', 'LABEL']])\n",
    "var_df = pd.concat(var_df)\n",
    "var_df"
   ]
  },
  {
   "cell_type": "markdown",
   "metadata": {},
   "source": [
    "### `pct_hispanic`"
   ]
  },
  {
   "cell_type": "code",
   "execution_count": null,
   "metadata": {},
   "outputs": [],
   "source": [
    "print(acs_acs5_groups_2009[acs_acs5_groups_2009['GROUP'] == 'B03003'])\n",
    "ced.variables.all_variables('acs/acs5', 2010, 'B03003')[['VARIABLE', 'LABEL']]"
   ]
  },
  {
   "cell_type": "code",
   "execution_count": null,
   "metadata": {},
   "outputs": [],
   "source": [
    "valid_codes = [len(validate_xyear(f'B03003_{i:03}E', 'B03003', 'acs/acs5', range(2010, 2022+1))) == 1 for i in range(1, 4)]\n",
    "print(valid_codes)\n",
    "print(\"total codes:\", len(valid_codes))\n",
    "print(\"total valid codes:\", sum(valid_codes))"
   ]
  },
  {
   "cell_type": "code",
   "execution_count": null,
   "metadata": {},
   "outputs": [],
   "source": [
    "# hispanic is not available until 2009\n",
    "ced.variables.all_variables('acs/acs1', 2009, 'B03003')[['VARIABLE', 'LABEL']]"
   ]
  },
  {
   "cell_type": "code",
   "execution_count": null,
   "metadata": {},
   "outputs": [],
   "source": [
    "hispanic_acs1_years = list(i for i in range(2009, 2022 + 1) if i != 2020)\n",
    "valid_codes = [len(validate_xyear(f'B03003_{i:03}E', 'B03003', 'acs/acs5', hispanic_acs1_years)) == 1 for i in range(1, 4)]\n",
    "print(valid_codes)\n",
    "print(\"total codes:\", len(valid_codes))\n",
    "print(\"total valid codes:\", sum(valid_codes))"
   ]
  },
  {
   "cell_type": "code",
   "execution_count": null,
   "metadata": {},
   "outputs": [],
   "source": [
    "var_group = {}\n",
    "var_group[2000] = 'P011'\n",
    "var_group[2010] = 'P4'\n",
    "var_group[2020] = 'P4'\n",
    "\n",
    "var_dataset = {}\n",
    "var_dataset[2000] = 'dec/sf1'\n",
    "var_dataset[2010] = 'dec/sf1'\n",
    "var_dataset[2020] = 'dec/dhc'\n",
    "\n",
    "var_df = []\n",
    "for year in [2000, 2010, 2020]:\n",
    "    dataset = var_dataset[year]\n",
    "    group = var_group[year]\n",
    "    print(f'{dataset} {year} {group}')\n",
    "    var = ced.variables.all_variables(dataset, year, group)\n",
    "    var_df.append(var)\n",
    "var_df = pd.concat(var_df)\n",
    "var_df.to_csv('dec_hispanic.csv', index=False)"
   ]
  },
  {
   "cell_type": "markdown",
   "metadata": {},
   "source": [
    "### `pct_non_us_citizen`"
   ]
  },
  {
   "cell_type": "code",
   "execution_count": null,
   "metadata": {},
   "outputs": [],
   "source": [
    "print(acs_acs5_groups_2009[acs_acs5_groups_2009['GROUP'] == 'B05001'])\n",
    "ced.variables.all_variables('acs/acs5', 2009, 'B05001')[['VARIABLE', 'LABEL']]"
   ]
  },
  {
   "cell_type": "code",
   "execution_count": null,
   "metadata": {},
   "outputs": [],
   "source": [
    "valid_codes = [len(validate_xyear(f'B05001_{i:03}E', 'B05001', 'acs/acs5', range(2009, 2022+1))) == 1 for i in range(1, 7)]\n",
    "print(valid_codes)\n",
    "print(\"total codes:\", len(valid_codes))\n",
    "print(\"total valid codes:\", sum(valid_codes))"
   ]
  },
  {
   "cell_type": "code",
   "execution_count": null,
   "metadata": {},
   "outputs": [],
   "source": [
    "print(acs_acs1_groups_2007[acs_acs1_groups_2007['GROUP'] == 'B05001'])\n",
    "ced.variables.all_variables('acs/acs1', 2007, 'B05001')[['VARIABLE', 'LABEL']]"
   ]
  },
  {
   "cell_type": "code",
   "execution_count": null,
   "metadata": {},
   "outputs": [],
   "source": [
    "valid_codes = [len(validate_xyear(f'B05001_{i:03}E', 'B05001', 'acs/acs1', acs1_years)) == 1 for i in range(1, 7)]\n",
    "print(valid_codes)\n",
    "print(\"total codes:\", len(valid_codes))\n",
    "print(\"total valid codes:\", sum(valid_codes))"
   ]
  },
  {
   "cell_type": "code",
   "execution_count": null,
   "metadata": {},
   "outputs": [],
   "source": [
    "# In most recent censuses, \n",
    "# citizenship data is Not collected through the Decennial Census short form, \n",
    "# which is the primary form sent to all households.\n",
    "\n",
    "ced.variables.all_variables('dec/sf3', 2000, 'P021')"
   ]
  },
  {
   "cell_type": "markdown",
   "metadata": {},
   "source": [
    "### `pct_higher_education`"
   ]
  },
  {
   "cell_type": "code",
   "execution_count": null,
   "metadata": {},
   "outputs": [],
   "source": [
    "print(acs_acs5_groups_2009[acs_acs5_groups_2009['GROUP'] == 'B14001'])\n",
    "ced.variables.all_variables('acs/acs5', 2010, 'B14001')"
   ]
  },
  {
   "cell_type": "code",
   "execution_count": null,
   "metadata": {},
   "outputs": [],
   "source": [
    "valid_codes = [len(validate_xyear(f'B14001_{i:03}E', 'B14001', 'acs/acs5', range(2010, 2022+1))) == 1 for i in range(1, 11)]\n",
    "print(valid_codes)\n",
    "print(\"total codes:\", len(valid_codes))\n",
    "print(\"total valid codes:\", sum(valid_codes))"
   ]
  },
  {
   "cell_type": "code",
   "execution_count": null,
   "metadata": {},
   "outputs": [],
   "source": [
    "print(acs_acs1_groups_2007[acs_acs1_groups_2007['GROUP'] == 'B14001'])\n",
    "ced.variables.all_variables('acs/acs1', 2007, 'B14001')[['VARIABLE', 'LABEL']]"
   ]
  },
  {
   "cell_type": "code",
   "execution_count": null,
   "metadata": {},
   "outputs": [],
   "source": [
    "valid_codes = [len(validate_xyear(f'B14001_{i:03}E', 'B14001', 'acs/acs1', acs1_years)) == 1 for i in range(1, 11)]\n",
    "print(valid_codes)\n",
    "print(\"total codes:\", len(valid_codes))\n",
    "print(\"total valid codes:\", sum(valid_codes))"
   ]
  },
  {
   "cell_type": "code",
   "execution_count": null,
   "metadata": {},
   "outputs": [],
   "source": [
    "ced.variables.all_variables('dec/sf3', 2000, 'P036')"
   ]
  },
  {
   "cell_type": "markdown",
   "metadata": {},
   "source": [
    "## pop_higher_education"
   ]
  },
  {
   "cell_type": "code",
   "execution_count": null,
   "metadata": {},
   "outputs": [],
   "source": [
    "print(acs_acs5_groups_2009[acs_acs5_groups_2009['GROUP'] == 'B15001'])\n",
    "df = ced.variables.all_variables('acs/acs5', 2009, 'B15001')\n",
    "df.to_csv('acs_acs5_education.csv', index=False)"
   ]
  },
  {
   "cell_type": "code",
   "execution_count": null,
   "metadata": {},
   "outputs": [],
   "source": [
    "print(acs_acs1_groups_2007[acs_acs1_groups_2007['GROUP'] == 'B15001'])\n",
    "#ced.variables.all_variables('acs/acs1', 2007, 'B15001')[['VARIABLE', 'LABEL']]"
   ]
  },
  {
   "cell_type": "code",
   "execution_count": null,
   "metadata": {},
   "outputs": [],
   "source": [
    "ced.variables.all_variables('dec/sf3', 2000, 'P037')"
   ]
  },
  {
   "cell_type": "markdown",
   "metadata": {},
   "source": [
    "### `pct_poverty`"
   ]
  },
  {
   "cell_type": "code",
   "execution_count": null,
   "metadata": {},
   "outputs": [],
   "source": [
    "print(acs_acs5_groups_2009[acs_acs5_groups_2009['GROUP'] == 'B17001'])\n",
    "ced.variables.all_variables('acs/acs5', 2010, 'B17001')[['VARIABLE', 'LABEL']]"
   ]
  },
  {
   "cell_type": "code",
   "execution_count": null,
   "metadata": {},
   "outputs": [],
   "source": [
    "print(acs_acs5_groups_2009[acs_acs5_groups_2009['GROUP'] == 'B17025'])\n",
    "ced.variables.all_variables('acs/acs5', 2010, 'B17025')[['VARIABLE', 'LABEL']]"
   ]
  },
  {
   "cell_type": "code",
   "execution_count": null,
   "metadata": {},
   "outputs": [],
   "source": [
    "# The variable B17025_002E has a unique label across years\n",
    "validate_xyear(f'B17025_002E', 'B17025', 'acs/acs5', range(2010, 2022+1))"
   ]
  },
  {
   "cell_type": "code",
   "execution_count": null,
   "metadata": {},
   "outputs": [],
   "source": [
    "print(acs_acs1_groups_2007[acs_acs1_groups_2007['GROUP'] == 'B17025'])\n",
    "ced.variables.all_variables('acs/acs1', 2007, 'B17025')[['VARIABLE', 'LABEL']]"
   ]
  },
  {
   "cell_type": "code",
   "execution_count": null,
   "metadata": {},
   "outputs": [],
   "source": [
    "# The variable B17025_002E has a unique label across years\n",
    "validate_xyear(f'B17025_002E', 'B17025', 'acs/acs1', acs1_years)"
   ]
  },
  {
   "cell_type": "code",
   "execution_count": null,
   "metadata": {},
   "outputs": [],
   "source": [
    "#P087,POVERTY STATUS IN 1999 BY AGE [17]\n",
    "ced.variables.all_variables('dec/sf3', 2000, 'P087')[['VARIABLE', 'LABEL']]"
   ]
  },
  {
   "cell_type": "markdown",
   "metadata": {},
   "source": [
    "### `pct_high_income`"
   ]
  },
  {
   "cell_type": "code",
   "execution_count": null,
   "metadata": {},
   "outputs": [],
   "source": [
    "print(acs_acs5_groups_2009[acs_acs5_groups_2009['GROUP'] == 'B19001'])\n",
    "ced.variables.all_variables('acs/acs5', 2010, 'B19001')[['VARIABLE', 'LABEL']]"
   ]
  },
  {
   "cell_type": "code",
   "execution_count": null,
   "metadata": {},
   "outputs": [],
   "source": [
    "valid_codes = [len(validate_xyear(f'B19001_{i:03}E', 'B19001', 'acs/acs5', range(2010, 2022+1))) == 1 for i in range(1, 18)]\n",
    "print(valid_codes)\n",
    "print(\"total codes:\", len(valid_codes))\n",
    "print(\"total valid codes:\", sum(valid_codes))"
   ]
  },
  {
   "cell_type": "markdown",
   "metadata": {},
   "source": [
    "### `median_household_income`"
   ]
  },
  {
   "cell_type": "code",
   "execution_count": null,
   "metadata": {},
   "outputs": [],
   "source": [
    "print(acs_acs5_groups_2009[acs_acs5_groups_2009['GROUP'] == 'B19013'])\n",
    "ced.variables.all_variables('acs/acs5', 2010, 'B19013')[['VARIABLE', 'LABEL']]"
   ]
  },
  {
   "cell_type": "code",
   "execution_count": null,
   "metadata": {},
   "outputs": [],
   "source": [
    "# the variable name changes because income is not discounted for inflation\n",
    "validate_xyear(f'B19013_001E', 'B19013', 'acs/acs5', range(2010, 2022+1))"
   ]
  },
  {
   "cell_type": "code",
   "execution_count": null,
   "metadata": {},
   "outputs": [],
   "source": [
    "# In most recent censuses, \n",
    "# income data is Not collected through the Decennial Census short form, \n",
    "# which is the primary form sent to all households.\n",
    "\n",
    "ced.variables.all_variables('dec/sf3', 2000, 'P053')"
   ]
  },
  {
   "cell_type": "markdown",
   "metadata": {},
   "source": [
    "### `pct_family_high_income`"
   ]
  },
  {
   "cell_type": "code",
   "execution_count": null,
   "metadata": {},
   "outputs": [],
   "source": [
    "print(acs_acs5_groups_2009[acs_acs5_groups_2009['GROUP'] == 'B19101'])\n",
    "ced.variables.all_variables('acs/acs5', 2009, 'B19101')"
   ]
  },
  {
   "cell_type": "code",
   "execution_count": null,
   "metadata": {},
   "outputs": [],
   "source": [
    "# In most recent censuses, \n",
    "# income data is Not collected through the Decennial Census short form, \n",
    "# which is the primary form sent to all households.\n",
    "\n",
    "ced.variables.all_variables('dec/sf3', 2000, 'P052')"
   ]
  },
  {
   "cell_type": "markdown",
   "metadata": {},
   "source": [
    "### `median_family_income`"
   ]
  },
  {
   "cell_type": "code",
   "execution_count": null,
   "metadata": {},
   "outputs": [],
   "source": [
    "print(acs_acs5_groups_2009[acs_acs5_groups_2009['GROUP'] == 'B19113'])\n",
    "ced.variables.all_variables('acs/acs5', 2009, 'B19113')[['VARIABLE', 'LABEL']]"
   ]
  },
  {
   "cell_type": "markdown",
   "metadata": {},
   "source": [
    "### `elder_footstamp`"
   ]
  },
  {
   "cell_type": "code",
   "execution_count": null,
   "metadata": {},
   "outputs": [],
   "source": [
    "print(acs_acs5_groups_2009[acs_acs5_groups_2009['GROUP'] == 'B22001'])\n",
    "ced.variables.all_variables('acs/acs5', 2009, 'B22001')[['VARIABLE', 'LABEL']]"
   ]
  },
  {
   "cell_type": "code",
   "execution_count": null,
   "metadata": {},
   "outputs": [],
   "source": [
    "# The variable B22001_002E has a unique label across years\n",
    "validate_xyear(f'B22001_002E', 'B22001', 'acs/acs5', range(2009, 2022+1))"
   ]
  },
  {
   "cell_type": "code",
   "execution_count": null,
   "metadata": {},
   "outputs": [],
   "source": [
    "print(acs_acs1_groups_2007[acs_acs1_groups_2007['GROUP'] == 'B22001'])\n",
    "ced.variables.all_variables('acs/acs1', 2007, 'B22001')[['VARIABLE', 'LABEL']]"
   ]
  },
  {
   "cell_type": "code",
   "execution_count": null,
   "metadata": {},
   "outputs": [],
   "source": [
    "# The variable B22001_002E has a label change, but not representative of a different concept\n",
    "validate_xyear(f'B22001_002E', 'B22001', 'acs/acs1', acs1_years)"
   ]
  },
  {
   "cell_type": "markdown",
   "metadata": {},
   "source": [
    "### `median_household_income`"
   ]
  },
  {
   "cell_type": "code",
   "execution_count": null,
   "metadata": {},
   "outputs": [],
   "source": [
    "print(acs_acs5_groups_2009[acs_acs5_groups_2009['GROUP'] == 'B19013'])\n",
    "ced.variables.all_variables('acs/acs5', 2009, 'B19013')[['VARIABLE', 'LABEL']]"
   ]
  },
  {
   "cell_type": "code",
   "execution_count": null,
   "metadata": {},
   "outputs": [],
   "source": [
    "validate_xyear(f'B19013_001E', 'B19013', 'acs/acs5', range(2009, 2022+1))"
   ]
  },
  {
   "cell_type": "code",
   "execution_count": null,
   "metadata": {},
   "outputs": [],
   "source": [
    "print(acs_acs1_groups_2007[acs_acs1_groups_2007['GROUP'] == 'B19013'])\n",
    "ced.variables.all_variables('acs/acs1', 2007, 'B19013')[['VARIABLE', 'LABEL']]\n"
   ]
  },
  {
   "cell_type": "code",
   "execution_count": null,
   "metadata": {},
   "outputs": [],
   "source": [
    "validate_xyear(f'B19013_001E', 'B19013', 'acs/acs1', acs1_years)"
   ]
  },
  {
   "cell_type": "code",
   "execution_count": null,
   "metadata": {},
   "outputs": [],
   "source": [
    "ced.variables.all_variables('dec/sf3', 2000, 'P053')\n",
    "# Starting with the 2010 Census, the long-form survey was discontinued, \n",
    "# and the data previously collected under SF3 became part of the American Community Survey (ACS)."
   ]
  },
  {
   "cell_type": "markdown",
   "metadata": {},
   "source": [
    "### `median_home_value`"
   ]
  },
  {
   "cell_type": "code",
   "execution_count": null,
   "metadata": {},
   "outputs": [],
   "source": [
    "print(acs_acs5_groups_2009[acs_acs5_groups_2009['GROUP'] == 'B25077'])\n",
    "ced.variables.all_variables('acs/acs5', 2009, 'B25077')[['VARIABLE', 'LABEL']]"
   ]
  },
  {
   "cell_type": "code",
   "execution_count": null,
   "metadata": {},
   "outputs": [],
   "source": [
    "validate_xyear('B25077_001E', 'B25077', 'acs/acs5', range(2009, 2022+1))"
   ]
  },
  {
   "cell_type": "code",
   "execution_count": null,
   "metadata": {},
   "outputs": [],
   "source": [
    "print(acs_acs1_groups_2007[acs_acs1_groups_2007['GROUP'] == 'B25077'])\n",
    "ced.variables.all_variables('acs/acs1', 2007, 'B25077')[['VARIABLE', 'LABEL']]"
   ]
  },
  {
   "cell_type": "code",
   "execution_count": null,
   "metadata": {},
   "outputs": [],
   "source": [
    "validate_xyear(f'B25077_001E', 'B25077', 'acs/acs1', acs1_years)"
   ]
  },
  {
   "cell_type": "code",
   "execution_count": null,
   "metadata": {},
   "outputs": [],
   "source": [
    "ced.variables.all_variables('dec/sf3', 2000, 'H085')\n",
    "\n",
    "# Starting with the 2010 Census, the long-form survey was discontinued, \n",
    "# and the data previously collected under SF3 became part of the American Community Survey (ACS)."
   ]
  },
  {
   "cell_type": "code",
   "execution_count": null,
   "metadata": {},
   "outputs": [],
   "source": [
    "ced.variables.all_variables('dec/sf1', 2010, 'H1')"
   ]
  },
  {
   "cell_type": "code",
   "execution_count": null,
   "metadata": {},
   "outputs": [],
   "source": [
    "ced.variables.all_variables('dec/dhc', 2020, 'H1')"
   ]
  },
  {
   "cell_type": "markdown",
   "metadata": {},
   "source": [
    "## Unweighted tables"
   ]
  },
  {
   "cell_type": "markdown",
   "metadata": {},
   "source": [
    "The unweighted tables in the American Community Survey (ACS) \n",
    "\n",
    "* Provide context for other ACS estimates by showing the base sample size. For instance, when presenting data on economic characteristics from the ACS, you can reference the unweighted sample count to give users a sense of the underlying sample from which estimates are derived. \n",
    "* Comparing the unweighted sample counts across different geographic areas can help in understanding the distribution and density of the survey samples.\n",
    "* They are particularly useful in the following situations:\n",
    "\n",
    "    - Understanding Sample Size: Use this table to determine the sample size of the population surveyed in a specific area. This can help assess the reliability and precision of the estimates in other ACS tables.\n",
    "    - Evaluating Data Quality: When analyzing ACS data, it’s important to understand the sample size because areas with small sample sizes may have less reliable estimates. This table helps in identifying such areas.\n",
    "    - Weighting and Estimation: Use this table to understand the raw, unweighted sample counts before weights are applied to produce population estimates. This is crucial for researchers performing advanced statistical analyses.\n",
    "\n"
   ]
  },
  {
   "cell_type": "code",
   "execution_count": null,
   "metadata": {},
   "outputs": [],
   "source": [
    "print(acs_acs5_groups_2009[acs_acs5_groups_2009['GROUP'] == 'B00001'])\n",
    "ced.variables.all_variables('acs/acs5', 2010, 'B00001')[['VARIABLE', 'LABEL']]"
   ]
  },
  {
   "cell_type": "code",
   "execution_count": null,
   "metadata": {},
   "outputs": [],
   "source": [
    "print(acs_acs5_groups_2009[acs_acs5_groups_2009['GROUP'] == 'B00002'])\n",
    "ced.variables.all_variables('acs/acs5', 2010, 'B00002')"
   ]
  }
 ],
 "metadata": {
  "kernelspec": {
   "display_name": "census_series",
   "language": "python",
   "name": "python3"
  },
  "language_info": {
   "codemirror_mode": {
    "name": "ipython",
    "version": 3
   },
   "file_extension": ".py",
   "mimetype": "text/x-python",
   "name": "python",
   "nbconvert_exporter": "python",
   "pygments_lexer": "ipython3",
   "version": "3.10.16"
  }
 },
 "nbformat": 4,
 "nbformat_minor": 2
}
