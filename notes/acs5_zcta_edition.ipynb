{
 "cells": [
  {
   "cell_type": "code",
   "execution_count": 1,
   "id": "067d1fd9",
   "metadata": {},
   "outputs": [
    {
     "name": "stdout",
     "output_type": "stream",
     "text": [
      "Requirement already satisfied: pygris in /Users/mia694/miniconda3/envs/census_series/lib/python3.10/site-packages (0.2.0)\n",
      "Requirement already satisfied: geopandas>=0.9 in /Users/mia694/miniconda3/envs/census_series/lib/python3.10/site-packages (from pygris) (1.0.1)\n",
      "Requirement already satisfied: requests in /Users/mia694/miniconda3/envs/census_series/lib/python3.10/site-packages (from pygris) (2.32.3)\n",
      "Requirement already satisfied: appdirs in /Users/mia694/miniconda3/envs/census_series/lib/python3.10/site-packages (from pygris) (1.4.4)\n",
      "Requirement already satisfied: numpy>=1.22 in /Users/mia694/miniconda3/envs/census_series/lib/python3.10/site-packages (from geopandas>=0.9->pygris) (2.2.0)\n",
      "Requirement already satisfied: pyogrio>=0.7.2 in /Users/mia694/miniconda3/envs/census_series/lib/python3.10/site-packages (from geopandas>=0.9->pygris) (0.9.0)\n",
      "Requirement already satisfied: packaging in /Users/mia694/miniconda3/envs/census_series/lib/python3.10/site-packages (from geopandas>=0.9->pygris) (24.2)\n",
      "Requirement already satisfied: pandas>=1.4.0 in /Users/mia694/miniconda3/envs/census_series/lib/python3.10/site-packages (from geopandas>=0.9->pygris) (2.2.3)\n",
      "Requirement already satisfied: pyproj>=3.3.0 in /Users/mia694/miniconda3/envs/census_series/lib/python3.10/site-packages (from geopandas>=0.9->pygris) (3.7.0)\n",
      "Requirement already satisfied: shapely>=2.0.0 in /Users/mia694/miniconda3/envs/census_series/lib/python3.10/site-packages (from geopandas>=0.9->pygris) (2.0.6)\n",
      "Requirement already satisfied: charset_normalizer<4,>=2 in /Users/mia694/miniconda3/envs/census_series/lib/python3.10/site-packages (from requests->pygris) (3.4.0)\n",
      "Requirement already satisfied: idna<4,>=2.5 in /Users/mia694/miniconda3/envs/census_series/lib/python3.10/site-packages (from requests->pygris) (3.10)\n",
      "Requirement already satisfied: urllib3<3,>=1.21.1 in /Users/mia694/miniconda3/envs/census_series/lib/python3.10/site-packages (from requests->pygris) (2.2.3)\n",
      "Requirement already satisfied: certifi>=2017.4.17 in /Users/mia694/miniconda3/envs/census_series/lib/python3.10/site-packages (from requests->pygris) (2024.8.30)\n",
      "Requirement already satisfied: python-dateutil>=2.8.2 in /Users/mia694/miniconda3/envs/census_series/lib/python3.10/site-packages (from pandas>=1.4.0->geopandas>=0.9->pygris) (2.9.0.post0)\n",
      "Requirement already satisfied: pytz>=2020.1 in /Users/mia694/miniconda3/envs/census_series/lib/python3.10/site-packages (from pandas>=1.4.0->geopandas>=0.9->pygris) (2024.2)\n",
      "Requirement already satisfied: tzdata>=2022.7 in /Users/mia694/miniconda3/envs/census_series/lib/python3.10/site-packages (from pandas>=1.4.0->geopandas>=0.9->pygris) (2024.2)\n",
      "Requirement already satisfied: six>=1.5 in /Users/mia694/miniconda3/envs/census_series/lib/python3.10/site-packages (from python-dateutil>=2.8.2->pandas>=1.4.0->geopandas>=0.9->pygris) (1.17.0)\n",
      "Requirement already satisfied: load_dotenv in /Users/mia694/miniconda3/envs/census_series/lib/python3.10/site-packages (0.1.0)\n",
      "Requirement already satisfied: python-dotenv in /Users/mia694/miniconda3/envs/census_series/lib/python3.10/site-packages (from load_dotenv) (1.1.1)\n"
     ]
    }
   ],
   "source": [
    "! pip install pygris\n",
    "! pip install load_dotenv"
   ]
  },
  {
   "cell_type": "code",
   "execution_count": 2,
   "id": "5153bb74",
   "metadata": {},
   "outputs": [],
   "source": [
    "import pygris\n",
    "import requests\n",
    "import os\n",
    "import pandas as pd\n",
    "from dotenv import load_dotenv"
   ]
  },
  {
   "cell_type": "markdown",
   "id": "eedee685",
   "metadata": {},
   "source": [
    "# TIGER/Line + CB Shapefiles"
   ]
  },
  {
   "cell_type": "markdown",
   "id": "774f92fc",
   "metadata": {},
   "source": [
    "## 2000"
   ]
  },
  {
   "cell_type": "code",
   "execution_count": 3,
   "id": "5b7c2f9a",
   "metadata": {},
   "outputs": [],
   "source": [
    "# TIGER2010/ZCTA5/2000/tl_2010_us_zcta500.zip\n",
    "tiger_shp_2000 = pygris.zctas(cache=False, year=2000)"
   ]
  },
  {
   "cell_type": "code",
   "execution_count": 4,
   "id": "bc852a9f",
   "metadata": {},
   "outputs": [
    {
     "data": {
      "text/plain": [
       "Index(['ZCTA5CE00', 'CLASSFP00', 'MTFCC00', 'FUNCSTAT00', 'ALAND00',\n",
       "       'AWATER00', 'INTPTLAT00', 'INTPTLON00', 'geometry'],\n",
       "      dtype='object')"
      ]
     },
     "execution_count": 4,
     "metadata": {},
     "output_type": "execute_result"
    }
   ],
   "source": [
    "tiger_shp_2000.columns"
   ]
  },
  {
   "cell_type": "code",
   "execution_count": 5,
   "id": "d0b293c8",
   "metadata": {},
   "outputs": [
    {
     "data": {
      "text/html": [
       "<div>\n",
       "<style scoped>\n",
       "    .dataframe tbody tr th:only-of-type {\n",
       "        vertical-align: middle;\n",
       "    }\n",
       "\n",
       "    .dataframe tbody tr th {\n",
       "        vertical-align: top;\n",
       "    }\n",
       "\n",
       "    .dataframe thead th {\n",
       "        text-align: right;\n",
       "    }\n",
       "</style>\n",
       "<table border=\"1\" class=\"dataframe\">\n",
       "  <thead>\n",
       "    <tr style=\"text-align: right;\">\n",
       "      <th></th>\n",
       "      <th>ZCTA5CE00</th>\n",
       "      <th>CLASSFP00</th>\n",
       "      <th>MTFCC00</th>\n",
       "      <th>FUNCSTAT00</th>\n",
       "      <th>ALAND00</th>\n",
       "      <th>AWATER00</th>\n",
       "      <th>INTPTLAT00</th>\n",
       "      <th>INTPTLON00</th>\n",
       "      <th>geometry</th>\n",
       "    </tr>\n",
       "  </thead>\n",
       "  <tbody>\n",
       "    <tr>\n",
       "      <th>0</th>\n",
       "      <td>99661</td>\n",
       "      <td>B5</td>\n",
       "      <td>G6350</td>\n",
       "      <td>S</td>\n",
       "      <td>1131077291</td>\n",
       "      <td>56091542</td>\n",
       "      <td>+55.3118694</td>\n",
       "      <td>-160.5865339</td>\n",
       "      <td>MULTIPOLYGON (((-161.09939 55.15794, -161.0995...</td>\n",
       "    </tr>\n",
       "    <tr>\n",
       "      <th>1</th>\n",
       "      <td>99612</td>\n",
       "      <td>B5</td>\n",
       "      <td>G6350</td>\n",
       "      <td>S</td>\n",
       "      <td>66502573</td>\n",
       "      <td>66576</td>\n",
       "      <td>+55.0865796</td>\n",
       "      <td>-162.2936213</td>\n",
       "      <td>POLYGON ((-162.32752 55.06059, -162.32719 55.0...</td>\n",
       "    </tr>\n",
       "    <tr>\n",
       "      <th>2</th>\n",
       "      <td>99553</td>\n",
       "      <td>B5</td>\n",
       "      <td>G6350</td>\n",
       "      <td>S</td>\n",
       "      <td>518410137</td>\n",
       "      <td>0</td>\n",
       "      <td>+54.1438301</td>\n",
       "      <td>-165.8188177</td>\n",
       "      <td>MULTIPOLYGON (((-166.09269 53.96086, -166.0928...</td>\n",
       "    </tr>\n",
       "    <tr>\n",
       "      <th>3</th>\n",
       "      <td>99583</td>\n",
       "      <td>B5</td>\n",
       "      <td>G6350</td>\n",
       "      <td>S</td>\n",
       "      <td>1362678244</td>\n",
       "      <td>0</td>\n",
       "      <td>+54.8460284</td>\n",
       "      <td>-163.6556276</td>\n",
       "      <td>POLYGON ((-163.40838 54.85568, -163.40822 54.8...</td>\n",
       "    </tr>\n",
       "    <tr>\n",
       "      <th>4</th>\n",
       "      <td>99571</td>\n",
       "      <td>B5</td>\n",
       "      <td>G6350</td>\n",
       "      <td>S</td>\n",
       "      <td>1327132624</td>\n",
       "      <td>19838937</td>\n",
       "      <td>+55.0773279</td>\n",
       "      <td>-162.7305748</td>\n",
       "      <td>MULTIPOLYGON (((-162.84795 55.29162, -162.8486...</td>\n",
       "    </tr>\n",
       "  </tbody>\n",
       "</table>\n",
       "</div>"
      ],
      "text/plain": [
       "  ZCTA5CE00 CLASSFP00 MTFCC00 FUNCSTAT00     ALAND00  AWATER00   INTPTLAT00  \\\n",
       "0     99661        B5   G6350          S  1131077291  56091542  +55.3118694   \n",
       "1     99612        B5   G6350          S    66502573     66576  +55.0865796   \n",
       "2     99553        B5   G6350          S   518410137         0  +54.1438301   \n",
       "3     99583        B5   G6350          S  1362678244         0  +54.8460284   \n",
       "4     99571        B5   G6350          S  1327132624  19838937  +55.0773279   \n",
       "\n",
       "     INTPTLON00                                           geometry  \n",
       "0  -160.5865339  MULTIPOLYGON (((-161.09939 55.15794, -161.0995...  \n",
       "1  -162.2936213  POLYGON ((-162.32752 55.06059, -162.32719 55.0...  \n",
       "2  -165.8188177  MULTIPOLYGON (((-166.09269 53.96086, -166.0928...  \n",
       "3  -163.6556276  POLYGON ((-163.40838 54.85568, -163.40822 54.8...  \n",
       "4  -162.7305748  MULTIPOLYGON (((-162.84795 55.29162, -162.8486...  "
      ]
     },
     "execution_count": 5,
     "metadata": {},
     "output_type": "execute_result"
    }
   ],
   "source": [
    "tiger_shp_2000.head()"
   ]
  },
  {
   "cell_type": "code",
   "execution_count": 6,
   "id": "62263878",
   "metadata": {},
   "outputs": [
    {
     "data": {
      "text/plain": [
       "array(['99661', '99612', '99553', '99583', '99571', '99692', '99591',\n",
       "       '38739', '38758', '38767'], dtype=object)"
      ]
     },
     "execution_count": 6,
     "metadata": {},
     "output_type": "execute_result"
    }
   ],
   "source": [
    "unique_zctas__tiger_shp_2000 = tiger_shp_2000['ZCTA5CE00'].unique()\n",
    "unique_zctas__tiger_shp_2000[:10]  # Display first 10 unique ZCTAs"
   ]
  },
  {
   "cell_type": "code",
   "execution_count": 7,
   "id": "956bd912",
   "metadata": {},
   "outputs": [],
   "source": [
    "# PREVGENZ/zt/z500shp/zt99_d00_shp.zip\n",
    "cb_shp_2000 = pygris.zctas(cache=False, year=2000, cb=True)"
   ]
  },
  {
   "cell_type": "code",
   "execution_count": 8,
   "id": "6f0bfd1e",
   "metadata": {},
   "outputs": [
    {
     "data": {
      "text/plain": [
       "Index(['AREA', 'PERIMETER', 'ZT99_D00_', 'ZT99_D00_I', 'ZCTA', 'NAME', 'LSAD',\n",
       "       'LSAD_TRANS', 'geometry'],\n",
       "      dtype='object')"
      ]
     },
     "execution_count": 8,
     "metadata": {},
     "output_type": "execute_result"
    }
   ],
   "source": [
    "cb_shp_2000.columns"
   ]
  },
  {
   "cell_type": "code",
   "execution_count": 9,
   "id": "61918508",
   "metadata": {},
   "outputs": [
    {
     "data": {
      "text/html": [
       "<div>\n",
       "<style scoped>\n",
       "    .dataframe tbody tr th:only-of-type {\n",
       "        vertical-align: middle;\n",
       "    }\n",
       "\n",
       "    .dataframe tbody tr th {\n",
       "        vertical-align: top;\n",
       "    }\n",
       "\n",
       "    .dataframe thead th {\n",
       "        text-align: right;\n",
       "    }\n",
       "</style>\n",
       "<table border=\"1\" class=\"dataframe\">\n",
       "  <thead>\n",
       "    <tr style=\"text-align: right;\">\n",
       "      <th></th>\n",
       "      <th>AREA</th>\n",
       "      <th>PERIMETER</th>\n",
       "      <th>ZT99_D00_</th>\n",
       "      <th>ZT99_D00_I</th>\n",
       "      <th>ZCTA</th>\n",
       "      <th>NAME</th>\n",
       "      <th>LSAD</th>\n",
       "      <th>LSAD_TRANS</th>\n",
       "      <th>geometry</th>\n",
       "    </tr>\n",
       "  </thead>\n",
       "  <tbody>\n",
       "    <tr>\n",
       "      <th>0</th>\n",
       "      <td>116.458973</td>\n",
       "      <td>197.607086</td>\n",
       "      <td>2</td>\n",
       "      <td>1</td>\n",
       "      <td>997XX</td>\n",
       "      <td>997XX</td>\n",
       "      <td>Z5</td>\n",
       "      <td>5-Digit ZCTA</td>\n",
       "      <td>POLYGON ((-156.92495 71.23033, -156.72874 71.2...</td>\n",
       "    </tr>\n",
       "    <tr>\n",
       "      <th>1</th>\n",
       "      <td>0.026368</td>\n",
       "      <td>1.128047</td>\n",
       "      <td>3</td>\n",
       "      <td>2</td>\n",
       "      <td>99723</td>\n",
       "      <td>99723</td>\n",
       "      <td>Z5</td>\n",
       "      <td>5-Digit ZCTA</td>\n",
       "      <td>POLYGON ((-156.67253 71.32994, -156.6643 71.32...</td>\n",
       "    </tr>\n",
       "    <tr>\n",
       "      <th>2</th>\n",
       "      <td>0.202685</td>\n",
       "      <td>4.324841</td>\n",
       "      <td>4</td>\n",
       "      <td>3</td>\n",
       "      <td>997HH</td>\n",
       "      <td>997HH</td>\n",
       "      <td>Z5</td>\n",
       "      <td>5-Digit ZCTA</td>\n",
       "      <td>POLYGON ((-154.10483 70.63819, -154.09684 70.6...</td>\n",
       "    </tr>\n",
       "    <tr>\n",
       "      <th>3</th>\n",
       "      <td>0.011322</td>\n",
       "      <td>0.811850</td>\n",
       "      <td>5</td>\n",
       "      <td>4</td>\n",
       "      <td>99782</td>\n",
       "      <td>99782</td>\n",
       "      <td>Z5</td>\n",
       "      <td>5-Digit ZCTA</td>\n",
       "      <td>POLYGON ((-159.92781 70.68501, -159.92641 70.6...</td>\n",
       "    </tr>\n",
       "    <tr>\n",
       "      <th>4</th>\n",
       "      <td>0.000454</td>\n",
       "      <td>0.150010</td>\n",
       "      <td>6</td>\n",
       "      <td>5</td>\n",
       "      <td>997XX</td>\n",
       "      <td>997XX</td>\n",
       "      <td>Z5</td>\n",
       "      <td>5-Digit ZCTA</td>\n",
       "      <td>POLYGON ((-154.02344 70.64334, -154.02564 70.6...</td>\n",
       "    </tr>\n",
       "  </tbody>\n",
       "</table>\n",
       "</div>"
      ],
      "text/plain": [
       "         AREA   PERIMETER  ZT99_D00_  ZT99_D00_I   ZCTA   NAME LSAD  \\\n",
       "0  116.458973  197.607086          2           1  997XX  997XX   Z5   \n",
       "1    0.026368    1.128047          3           2  99723  99723   Z5   \n",
       "2    0.202685    4.324841          4           3  997HH  997HH   Z5   \n",
       "3    0.011322    0.811850          5           4  99782  99782   Z5   \n",
       "4    0.000454    0.150010          6           5  997XX  997XX   Z5   \n",
       "\n",
       "     LSAD_TRANS                                           geometry  \n",
       "0  5-Digit ZCTA  POLYGON ((-156.92495 71.23033, -156.72874 71.2...  \n",
       "1  5-Digit ZCTA  POLYGON ((-156.67253 71.32994, -156.6643 71.32...  \n",
       "2  5-Digit ZCTA  POLYGON ((-154.10483 70.63819, -154.09684 70.6...  \n",
       "3  5-Digit ZCTA  POLYGON ((-159.92781 70.68501, -159.92641 70.6...  \n",
       "4  5-Digit ZCTA  POLYGON ((-154.02344 70.64334, -154.02564 70.6...  "
      ]
     },
     "execution_count": 9,
     "metadata": {},
     "output_type": "execute_result"
    }
   ],
   "source": [
    "cb_shp_2000.head()"
   ]
  },
  {
   "cell_type": "code",
   "execution_count": 10,
   "id": "fb9322af",
   "metadata": {},
   "outputs": [
    {
     "data": {
      "text/plain": [
       "array(['997XX', '99723', '997HH', '99782', '99791', '99789', '99747',\n",
       "       '99759', '99766', '99721'], dtype=object)"
      ]
     },
     "execution_count": 10,
     "metadata": {},
     "output_type": "execute_result"
    }
   ],
   "source": [
    "unique_zctas__cb_shp_2000 = cb_shp_2000['NAME'].unique()\n",
    "unique_zctas__cb_shp_2000[:10]  # Display first 10 unique ZCTAs"
   ]
  },
  {
   "cell_type": "markdown",
   "id": "14badc55",
   "metadata": {},
   "source": [
    "## 2010"
   ]
  },
  {
   "cell_type": "code",
   "execution_count": 11,
   "id": "9f2cf09d",
   "metadata": {},
   "outputs": [],
   "source": [
    "# TIGER2010/ZCTA5/2010/tl_2010_us_zcta510.zip\n",
    "tiger_shp_2010 = pygris.zctas(cache=False, year=2010)"
   ]
  },
  {
   "cell_type": "code",
   "execution_count": 12,
   "id": "29c06f65",
   "metadata": {},
   "outputs": [
    {
     "data": {
      "text/plain": [
       "Index(['ZCTA5CE10', 'GEOID10', 'CLASSFP10', 'MTFCC10', 'FUNCSTAT10', 'ALAND10',\n",
       "       'AWATER10', 'INTPTLAT10', 'INTPTLON10', 'geometry'],\n",
       "      dtype='object')"
      ]
     },
     "execution_count": 12,
     "metadata": {},
     "output_type": "execute_result"
    }
   ],
   "source": [
    "tiger_shp_2010.columns"
   ]
  },
  {
   "cell_type": "code",
   "execution_count": 13,
   "id": "6cfe3461",
   "metadata": {},
   "outputs": [
    {
     "data": {
      "text/html": [
       "<div>\n",
       "<style scoped>\n",
       "    .dataframe tbody tr th:only-of-type {\n",
       "        vertical-align: middle;\n",
       "    }\n",
       "\n",
       "    .dataframe tbody tr th {\n",
       "        vertical-align: top;\n",
       "    }\n",
       "\n",
       "    .dataframe thead th {\n",
       "        text-align: right;\n",
       "    }\n",
       "</style>\n",
       "<table border=\"1\" class=\"dataframe\">\n",
       "  <thead>\n",
       "    <tr style=\"text-align: right;\">\n",
       "      <th></th>\n",
       "      <th>ZCTA5CE10</th>\n",
       "      <th>GEOID10</th>\n",
       "      <th>CLASSFP10</th>\n",
       "      <th>MTFCC10</th>\n",
       "      <th>FUNCSTAT10</th>\n",
       "      <th>ALAND10</th>\n",
       "      <th>AWATER10</th>\n",
       "      <th>INTPTLAT10</th>\n",
       "      <th>INTPTLON10</th>\n",
       "      <th>geometry</th>\n",
       "    </tr>\n",
       "  </thead>\n",
       "  <tbody>\n",
       "    <tr>\n",
       "      <th>0</th>\n",
       "      <td>04757</td>\n",
       "      <td>04757</td>\n",
       "      <td>B5</td>\n",
       "      <td>G6350</td>\n",
       "      <td>S</td>\n",
       "      <td>334700805</td>\n",
       "      <td>3663844</td>\n",
       "      <td>+46.6676144</td>\n",
       "      <td>-068.1686355</td>\n",
       "      <td>POLYGON ((-68.08095 46.56746, -68.08236 46.567...</td>\n",
       "    </tr>\n",
       "    <tr>\n",
       "      <th>1</th>\n",
       "      <td>04758</td>\n",
       "      <td>04758</td>\n",
       "      <td>B5</td>\n",
       "      <td>G6350</td>\n",
       "      <td>S</td>\n",
       "      <td>91006829</td>\n",
       "      <td>191946</td>\n",
       "      <td>+46.5592719</td>\n",
       "      <td>-067.8532254</td>\n",
       "      <td>POLYGON ((-67.9065 46.52526, -67.90677 46.5335...</td>\n",
       "    </tr>\n",
       "    <tr>\n",
       "      <th>2</th>\n",
       "      <td>04760</td>\n",
       "      <td>04760</td>\n",
       "      <td>B5</td>\n",
       "      <td>G6350</td>\n",
       "      <td>S</td>\n",
       "      <td>259787771</td>\n",
       "      <td>547534</td>\n",
       "      <td>+46.3393412</td>\n",
       "      <td>-067.9548745</td>\n",
       "      <td>POLYGON ((-67.85272 46.37207, -67.84753 46.372...</td>\n",
       "    </tr>\n",
       "    <tr>\n",
       "      <th>3</th>\n",
       "      <td>04975</td>\n",
       "      <td>04975</td>\n",
       "      <td>B5</td>\n",
       "      <td>G6350</td>\n",
       "      <td>S</td>\n",
       "      <td>142318</td>\n",
       "      <td>0</td>\n",
       "      <td>+44.6253540</td>\n",
       "      <td>-069.5883338</td>\n",
       "      <td>POLYGON ((-69.58945 44.62188, -69.58938 44.622...</td>\n",
       "    </tr>\n",
       "    <tr>\n",
       "      <th>4</th>\n",
       "      <td>04976</td>\n",
       "      <td>04976</td>\n",
       "      <td>B5</td>\n",
       "      <td>G6350</td>\n",
       "      <td>S</td>\n",
       "      <td>257908035</td>\n",
       "      <td>4722278</td>\n",
       "      <td>+44.7892800</td>\n",
       "      <td>-069.6676898</td>\n",
       "      <td>POLYGON ((-69.73503 44.78785, -69.73388 44.787...</td>\n",
       "    </tr>\n",
       "  </tbody>\n",
       "</table>\n",
       "</div>"
      ],
      "text/plain": [
       "  ZCTA5CE10 GEOID10 CLASSFP10 MTFCC10 FUNCSTAT10    ALAND10  AWATER10  \\\n",
       "0     04757   04757        B5   G6350          S  334700805   3663844   \n",
       "1     04758   04758        B5   G6350          S   91006829    191946   \n",
       "2     04760   04760        B5   G6350          S  259787771    547534   \n",
       "3     04975   04975        B5   G6350          S     142318         0   \n",
       "4     04976   04976        B5   G6350          S  257908035   4722278   \n",
       "\n",
       "    INTPTLAT10    INTPTLON10  \\\n",
       "0  +46.6676144  -068.1686355   \n",
       "1  +46.5592719  -067.8532254   \n",
       "2  +46.3393412  -067.9548745   \n",
       "3  +44.6253540  -069.5883338   \n",
       "4  +44.7892800  -069.6676898   \n",
       "\n",
       "                                            geometry  \n",
       "0  POLYGON ((-68.08095 46.56746, -68.08236 46.567...  \n",
       "1  POLYGON ((-67.9065 46.52526, -67.90677 46.5335...  \n",
       "2  POLYGON ((-67.85272 46.37207, -67.84753 46.372...  \n",
       "3  POLYGON ((-69.58945 44.62188, -69.58938 44.622...  \n",
       "4  POLYGON ((-69.73503 44.78785, -69.73388 44.787...  "
      ]
     },
     "execution_count": 13,
     "metadata": {},
     "output_type": "execute_result"
    }
   ],
   "source": [
    "tiger_shp_2010.head()"
   ]
  },
  {
   "cell_type": "code",
   "execution_count": 14,
   "id": "5062a1eb",
   "metadata": {},
   "outputs": [],
   "source": [
    "unique_zctas__tiger_shp_2010 = tiger_shp_2010['ZCTA5CE10'].unique()"
   ]
  },
  {
   "cell_type": "code",
   "execution_count": 15,
   "id": "5b375406",
   "metadata": {},
   "outputs": [],
   "source": [
    "# GENZ2010/gz_2010_us_860_00_500k.zip\n",
    "cb_shp_2010 = pygris.zctas(cache=False, year=2010, cb=True)"
   ]
  },
  {
   "cell_type": "code",
   "execution_count": 16,
   "id": "0cfb9cb3",
   "metadata": {},
   "outputs": [
    {
     "data": {
      "text/plain": [
       "Index(['GEO_ID', 'ZCTA5', 'NAME', 'LSAD', 'CENSUSAREA', 'geometry'], dtype='object')"
      ]
     },
     "execution_count": 16,
     "metadata": {},
     "output_type": "execute_result"
    }
   ],
   "source": [
    "cb_shp_2010.columns"
   ]
  },
  {
   "cell_type": "code",
   "execution_count": 17,
   "id": "a39dbdea",
   "metadata": {},
   "outputs": [
    {
     "data": {
      "text/html": [
       "<div>\n",
       "<style scoped>\n",
       "    .dataframe tbody tr th:only-of-type {\n",
       "        vertical-align: middle;\n",
       "    }\n",
       "\n",
       "    .dataframe tbody tr th {\n",
       "        vertical-align: top;\n",
       "    }\n",
       "\n",
       "    .dataframe thead th {\n",
       "        text-align: right;\n",
       "    }\n",
       "</style>\n",
       "<table border=\"1\" class=\"dataframe\">\n",
       "  <thead>\n",
       "    <tr style=\"text-align: right;\">\n",
       "      <th></th>\n",
       "      <th>GEO_ID</th>\n",
       "      <th>ZCTA5</th>\n",
       "      <th>NAME</th>\n",
       "      <th>LSAD</th>\n",
       "      <th>CENSUSAREA</th>\n",
       "      <th>geometry</th>\n",
       "    </tr>\n",
       "  </thead>\n",
       "  <tbody>\n",
       "    <tr>\n",
       "      <th>0</th>\n",
       "      <td>8600000US01040</td>\n",
       "      <td>01040</td>\n",
       "      <td>01040</td>\n",
       "      <td>ZCTA5</td>\n",
       "      <td>21.281</td>\n",
       "      <td>POLYGON ((-72.62734 42.16203, -72.62764 42.162...</td>\n",
       "    </tr>\n",
       "    <tr>\n",
       "      <th>1</th>\n",
       "      <td>8600000US01050</td>\n",
       "      <td>01050</td>\n",
       "      <td>01050</td>\n",
       "      <td>ZCTA5</td>\n",
       "      <td>38.329</td>\n",
       "      <td>POLYGON ((-72.95393 42.34379, -72.95385 42.343...</td>\n",
       "    </tr>\n",
       "    <tr>\n",
       "      <th>2</th>\n",
       "      <td>8600000US01053</td>\n",
       "      <td>01053</td>\n",
       "      <td>01053</td>\n",
       "      <td>ZCTA5</td>\n",
       "      <td>5.131</td>\n",
       "      <td>POLYGON ((-72.68286 42.37002, -72.68287 42.369...</td>\n",
       "    </tr>\n",
       "    <tr>\n",
       "      <th>3</th>\n",
       "      <td>8600000US01056</td>\n",
       "      <td>01056</td>\n",
       "      <td>01056</td>\n",
       "      <td>ZCTA5</td>\n",
       "      <td>27.205</td>\n",
       "      <td>POLYGON ((-72.39529 42.18476, -72.39653 42.183...</td>\n",
       "    </tr>\n",
       "    <tr>\n",
       "      <th>4</th>\n",
       "      <td>8600000US01057</td>\n",
       "      <td>01057</td>\n",
       "      <td>01057</td>\n",
       "      <td>ZCTA5</td>\n",
       "      <td>44.907</td>\n",
       "      <td>MULTIPOLYGON (((-72.39191 42.08066, -72.39077 ...</td>\n",
       "    </tr>\n",
       "  </tbody>\n",
       "</table>\n",
       "</div>"
      ],
      "text/plain": [
       "           GEO_ID  ZCTA5   NAME   LSAD  CENSUSAREA  \\\n",
       "0  8600000US01040  01040  01040  ZCTA5      21.281   \n",
       "1  8600000US01050  01050  01050  ZCTA5      38.329   \n",
       "2  8600000US01053  01053  01053  ZCTA5       5.131   \n",
       "3  8600000US01056  01056  01056  ZCTA5      27.205   \n",
       "4  8600000US01057  01057  01057  ZCTA5      44.907   \n",
       "\n",
       "                                            geometry  \n",
       "0  POLYGON ((-72.62734 42.16203, -72.62764 42.162...  \n",
       "1  POLYGON ((-72.95393 42.34379, -72.95385 42.343...  \n",
       "2  POLYGON ((-72.68286 42.37002, -72.68287 42.369...  \n",
       "3  POLYGON ((-72.39529 42.18476, -72.39653 42.183...  \n",
       "4  MULTIPOLYGON (((-72.39191 42.08066, -72.39077 ...  "
      ]
     },
     "execution_count": 17,
     "metadata": {},
     "output_type": "execute_result"
    }
   ],
   "source": [
    "cb_shp_2010.head()"
   ]
  },
  {
   "cell_type": "code",
   "execution_count": 18,
   "id": "753443b4",
   "metadata": {},
   "outputs": [],
   "source": [
    "unique_zctas__cb_shp_2010 = cb_shp_2010['ZCTA5'].unique()"
   ]
  },
  {
   "cell_type": "markdown",
   "id": "e03d72ee",
   "metadata": {},
   "source": [
    "## Census API"
   ]
  },
  {
   "cell_type": "code",
   "execution_count": 19,
   "id": "29ed86e5",
   "metadata": {},
   "outputs": [
    {
     "data": {
      "text/plain": [
       "True"
      ]
     },
     "execution_count": 19,
     "metadata": {},
     "output_type": "execute_result"
    }
   ],
   "source": [
    "#creat a .env file in the same directory as this script with your Census API key\n",
    "#CENSUS_API_KEY='your_api_key_here'\n",
    "#load the environment variables from the .env file\n",
    "load_dotenv()"
   ]
  },
  {
   "cell_type": "code",
   "execution_count": 20,
   "id": "0363486e",
   "metadata": {},
   "outputs": [],
   "source": [
    "geography = \"zip%20code%20tabulation%20area:*\"\n",
    "dataset = \"acs/acs5\"\n",
    "variable_list = 'B01003_001E'\n",
    "api_key = os.environ.get(\"CENSUS_API_KEY\")\n",
    "#api_key"
   ]
  },
  {
   "cell_type": "markdown",
   "id": "a4a1eeb6",
   "metadata": {},
   "source": [
    "## ACS5 2007-2011"
   ]
  },
  {
   "cell_type": "code",
   "execution_count": 21,
   "id": "78bc6901",
   "metadata": {},
   "outputs": [],
   "source": [
    "year = 2011\n",
    "api_endpoint = f\"https://api.census.gov/data/{year}/{dataset}\"\n",
    "url = f\"{api_endpoint}?get={variable_list}&for={geography}&key={api_key}\"\n",
    "#url"
   ]
  },
  {
   "cell_type": "code",
   "execution_count": 22,
   "id": "12a514da",
   "metadata": {},
   "outputs": [
    {
     "name": "stdout",
     "output_type": "stream",
     "text": [
      "200\n"
     ]
    }
   ],
   "source": [
    "response = requests.get(url)\n",
    "print(response.status_code)"
   ]
  },
  {
   "cell_type": "code",
   "execution_count": 23,
   "id": "3d6b71e2",
   "metadata": {},
   "outputs": [],
   "source": [
    "data = response.json()\n",
    "df = pd.DataFrame(data[1:], columns=data[0])\n",
    "col_list = [\"zip code tabulation area\"] + variable_list.split(\",\")\n",
    "df = df[col_list]\n",
    "df.rename(columns={\"zip code tabulation area\": \"zcta\"}, inplace=True)\n",
    "df.set_index(\"zcta\", inplace=True)\n",
    "\n",
    "unique_zctas = df.index.unique()"
   ]
  },
  {
   "cell_type": "code",
   "execution_count": 24,
   "id": "913060b4",
   "metadata": {},
   "outputs": [
    {
     "name": "stdout",
     "output_type": "stream",
     "text": [
      "ZCTAs in ACS but not in TIGER/Line: 1742\n",
      "ZCTAs in TIGER/Line but not in ACS: 660\n"
     ]
    }
   ],
   "source": [
    "# Find ZCTAs in ACS data not in TIGER/Line shapefile\n",
    "zctas_not_in_tiger = set(unique_zctas) - set(unique_zctas__tiger_shp_2000)\n",
    "# Find ZCTAs in TIGER/Line shapefile not in ACS data\n",
    "zctas_not_in_acs = set(unique_zctas__tiger_shp_2000) - set(unique_zctas)\n",
    "\n",
    "print(f\"ZCTAs in ACS but not in TIGER/Line: {len(zctas_not_in_tiger)}\")\n",
    "print(f\"ZCTAs in TIGER/Line but not in ACS: {len(zctas_not_in_acs)}\")"
   ]
  },
  {
   "cell_type": "code",
   "execution_count": 25,
   "id": "7396361e",
   "metadata": {},
   "outputs": [
    {
     "name": "stdout",
     "output_type": "stream",
     "text": [
      "ZCTAs in ACS but not in CB shapefile: 1742\n",
      "ZCTAs in CB shapefile but not in ACS: 1793\n"
     ]
    }
   ],
   "source": [
    "# Find ZCTAs in ACS data not in CB shapefile\n",
    "zctas_not_in_cb = set(unique_zctas) - set(unique_zctas__cb_shp_2000)\n",
    "# Find ZCTAs in CB shapefile not in ACS data\n",
    "cb_not_in_acs = set(unique_zctas__cb_shp_2000) - set(unique_zctas)\n",
    "\n",
    "print(f\"ZCTAs in ACS but not in CB shapefile: {len(zctas_not_in_cb)}\")\n",
    "print(f\"ZCTAs in CB shapefile but not in ACS: {len(cb_not_in_acs)}\")"
   ]
  },
  {
   "cell_type": "code",
   "execution_count": 26,
   "id": "ad5b8b0f",
   "metadata": {},
   "outputs": [
    {
     "name": "stdout",
     "output_type": "stream",
     "text": [
      "ZCTAs in ACS but not in TIGER/Line: 0\n",
      "ZCTAs in TIGER/Line but not in ACS: 0\n"
     ]
    }
   ],
   "source": [
    "# Find ZCTAs in ACS data not in TIGER/Line shapefile\n",
    "zctas_not_in_tiger = set(unique_zctas) - set(unique_zctas__tiger_shp_2010)\n",
    "# Find ZCTAs in TIGER/Line shapefile not in ACS data\n",
    "zctas_not_in_acs = set(unique_zctas__tiger_shp_2010) - set(unique_zctas)\n",
    "\n",
    "print(f\"ZCTAs in ACS but not in TIGER/Line: {len(zctas_not_in_tiger)}\")\n",
    "print(f\"ZCTAs in TIGER/Line but not in ACS: {len(zctas_not_in_acs)}\")"
   ]
  },
  {
   "cell_type": "code",
   "execution_count": 27,
   "id": "30b5f638",
   "metadata": {},
   "outputs": [
    {
     "name": "stdout",
     "output_type": "stream",
     "text": [
      "ZCTAs in ACS but not in CB shapefile: 0\n",
      "ZCTAs in CB shapefile but not in ACS: 0\n"
     ]
    }
   ],
   "source": [
    "# Find ZCTAs in ACS data not in CB shapefile\n",
    "zctas_not_in_cb = set(unique_zctas) - set(unique_zctas__cb_shp_2010)\n",
    "# Find ZCTAs in CB shapefile not in ACS data\n",
    "cb_not_in_acs = set(unique_zctas__cb_shp_2010) - set(unique_zctas)\n",
    "\n",
    "print(f\"ZCTAs in ACS but not in CB shapefile: {len(zctas_not_in_cb)}\")\n",
    "print(f\"ZCTAs in CB shapefile but not in ACS: {len(cb_not_in_acs)}\")"
   ]
  }
 ],
 "metadata": {
  "kernelspec": {
   "display_name": "census_series",
   "language": "python",
   "name": "python3"
  },
  "language_info": {
   "codemirror_mode": {
    "name": "ipython",
    "version": 3
   },
   "file_extension": ".py",
   "mimetype": "text/x-python",
   "name": "python",
   "nbconvert_exporter": "python",
   "pygments_lexer": "ipython3",
   "version": "3.10.16"
  }
 },
 "nbformat": 4,
 "nbformat_minor": 5
}
